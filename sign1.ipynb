{
 "cells": [
  {
   "cell_type": "code",
   "execution_count": 3,
   "id": "b8a5e678-5b6f-41f3-9949-5f80e5114262",
   "metadata": {},
   "outputs": [],
   "source": [
    "import numpy as np\n",
    "import pandas as pd\n",
    "import matplotlib as plt\n",
    "import seaborn as sns"
   ]
  },
  {
   "cell_type": "code",
   "execution_count": 5,
   "id": "94b41f78-ea2a-4462-a97a-fcf3759fd5f7",
   "metadata": {},
   "outputs": [],
   "source": [
    "train=pd.read_excel('how2sign_train.xlsx')"
   ]
  },
  {
   "cell_type": "code",
   "execution_count": 6,
   "id": "b6404939-c529-4625-bef8-970e06f25755",
   "metadata": {},
   "outputs": [
    {
     "data": {
      "text/html": [
       "<div>\n",
       "<style scoped>\n",
       "    .dataframe tbody tr th:only-of-type {\n",
       "        vertical-align: middle;\n",
       "    }\n",
       "\n",
       "    .dataframe tbody tr th {\n",
       "        vertical-align: top;\n",
       "    }\n",
       "\n",
       "    .dataframe thead th {\n",
       "        text-align: right;\n",
       "    }\n",
       "</style>\n",
       "<table border=\"1\" class=\"dataframe\">\n",
       "  <thead>\n",
       "    <tr style=\"text-align: right;\">\n",
       "      <th></th>\n",
       "      <th>VIDEO_ID</th>\n",
       "      <th>VIDEO_NAME</th>\n",
       "      <th>SENTENCE_ID</th>\n",
       "      <th>SENTENCE_NAME</th>\n",
       "      <th>START</th>\n",
       "      <th>END</th>\n",
       "      <th>SENTENCE</th>\n",
       "    </tr>\n",
       "  </thead>\n",
       "  <tbody>\n",
       "    <tr>\n",
       "      <th>0</th>\n",
       "      <td>--7E2sU6zP4</td>\n",
       "      <td>--7E2sU6zP4-5-rgb_front</td>\n",
       "      <td>--7E2sU6zP4_10</td>\n",
       "      <td>--7E2sU6zP4_10-5-rgb_front</td>\n",
       "      <td>94.95</td>\n",
       "      <td>106.38</td>\n",
       "      <td>And I call them decorative elements because ba...</td>\n",
       "    </tr>\n",
       "    <tr>\n",
       "      <th>1</th>\n",
       "      <td>--7E2sU6zP4</td>\n",
       "      <td>--7E2sU6zP4-5-rgb_front</td>\n",
       "      <td>--7E2sU6zP4_11</td>\n",
       "      <td>--7E2sU6zP4_11-5-rgb_front</td>\n",
       "      <td>107.50</td>\n",
       "      <td>125.18</td>\n",
       "      <td>So they don't really have much of a symbolic m...</td>\n",
       "    </tr>\n",
       "    <tr>\n",
       "      <th>2</th>\n",
       "      <td>--7E2sU6zP4</td>\n",
       "      <td>--7E2sU6zP4-5-rgb_front</td>\n",
       "      <td>--7E2sU6zP4_12</td>\n",
       "      <td>--7E2sU6zP4_12-5-rgb_front</td>\n",
       "      <td>125.18</td>\n",
       "      <td>136.09</td>\n",
       "      <td>Now this is very, this is actually an insert o...</td>\n",
       "    </tr>\n",
       "    <tr>\n",
       "      <th>3</th>\n",
       "      <td>--7E2sU6zP4</td>\n",
       "      <td>--7E2sU6zP4-5-rgb_front</td>\n",
       "      <td>--7E2sU6zP4_13</td>\n",
       "      <td>--7E2sU6zP4_13-5-rgb_front</td>\n",
       "      <td>136.52</td>\n",
       "      <td>141.03</td>\n",
       "      <td>This is all the you know, take off on the idea...</td>\n",
       "    </tr>\n",
       "    <tr>\n",
       "      <th>4</th>\n",
       "      <td>--7E2sU6zP4</td>\n",
       "      <td>--7E2sU6zP4-5-rgb_front</td>\n",
       "      <td>--7E2sU6zP4_5</td>\n",
       "      <td>--7E2sU6zP4_5-5-rgb_front</td>\n",
       "      <td>42.68</td>\n",
       "      <td>49.33</td>\n",
       "      <td>It's almost has a feathery like posture to it.</td>\n",
       "    </tr>\n",
       "  </tbody>\n",
       "</table>\n",
       "</div>"
      ],
      "text/plain": [
       "      VIDEO_ID               VIDEO_NAME     SENTENCE_ID  \\\n",
       "0  --7E2sU6zP4  --7E2sU6zP4-5-rgb_front  --7E2sU6zP4_10   \n",
       "1  --7E2sU6zP4  --7E2sU6zP4-5-rgb_front  --7E2sU6zP4_11   \n",
       "2  --7E2sU6zP4  --7E2sU6zP4-5-rgb_front  --7E2sU6zP4_12   \n",
       "3  --7E2sU6zP4  --7E2sU6zP4-5-rgb_front  --7E2sU6zP4_13   \n",
       "4  --7E2sU6zP4  --7E2sU6zP4-5-rgb_front   --7E2sU6zP4_5   \n",
       "\n",
       "                SENTENCE_NAME   START     END  \\\n",
       "0  --7E2sU6zP4_10-5-rgb_front   94.95  106.38   \n",
       "1  --7E2sU6zP4_11-5-rgb_front  107.50  125.18   \n",
       "2  --7E2sU6zP4_12-5-rgb_front  125.18  136.09   \n",
       "3  --7E2sU6zP4_13-5-rgb_front  136.52  141.03   \n",
       "4   --7E2sU6zP4_5-5-rgb_front   42.68   49.33   \n",
       "\n",
       "                                            SENTENCE  \n",
       "0  And I call them decorative elements because ba...  \n",
       "1  So they don't really have much of a symbolic m...  \n",
       "2  Now this is very, this is actually an insert o...  \n",
       "3  This is all the you know, take off on the idea...  \n",
       "4     It's almost has a feathery like posture to it.  "
      ]
     },
     "execution_count": 6,
     "metadata": {},
     "output_type": "execute_result"
    }
   ],
   "source": [
    "train.head()"
   ]
  },
  {
   "cell_type": "code",
   "execution_count": 8,
   "id": "91d6d4e6-24f4-4e9b-b06b-fc2ce155a98e",
   "metadata": {},
   "outputs": [
    {
     "data": {
      "text/plain": [
       "<Axes: >"
      ]
     },
     "execution_count": 8,
     "metadata": {},
     "output_type": "execute_result"
    },
    {
     "data": {
      "image/png": "[encoded data removed]",
      "text/plain": [
       "<Figure size 640x480 with 2 Axes>"
      ]
     },
     "metadata": {},
     "output_type": "display_data"
    }
   ],
   "source": [
    "train.isnull()\n",
    "sns.heatmap(train.isnull(),yticklabels=False)"
   ]
  },
  {
   "cell_type": "code",
   "execution_count": 9,
   "id": "febeb902-607f-42f6-a386-a902bdf07bc5",
   "metadata": {},
   "outputs": [
    {
     "data": {
      "text/plain": [
       "<Axes: xlabel='START', ylabel='count'>"
      ]
     },
     "execution_count": 9,
     "metadata": {},
     "output_type": "execute_result"
    },
    {
     "data": {
      "image/png": "[encoded data removed]",
      "text/plain": [
       "<Figure size 640x480 with 1 Axes>"
      ]
     },
     "metadata": {},
     "output_type": "display_data"
    }
   ],
   "source": [
    "sns.countplot(x='START',data=train)"
   ]
  },
  {
   "cell_type": "code",
   "execution_count": 10,
   "id": "717a6517-c710-40fd-bcd2-17db983b135e",
   "metadata": {},
   "outputs": [
    {
     "data": {
      "text/plain": [
       "<Axes: xlabel='START', ylabel='count'>"
      ]
     },
     "execution_count": 10,
     "metadata": {},
     "output_type": "execute_result"
    },
    {
     "data": {
      "image/png": "[encoded data removed]",
      "text/plain": [
       "<Figure size 640x480 with 1 Axes>"
      ]
     },
     "metadata": {},
     "output_type": "display_data"
    }
   ],
   "source": [
    "sns.countplot(x='START',hue='END',data=train)"
   ]
  },
  {
   "cell_type": "code",
   "execution_count": 11,
   "id": "6f466910-b2e6-4d66-b702-a548ff2a8b1a",
   "metadata": {},
   "outputs": [
    {
     "data": {
      "text/html": [
       "<div>\n",
       "<style scoped>\n",
       "    .dataframe tbody tr th:only-of-type {\n",
       "        vertical-align: middle;\n",
       "    }\n",
       "\n",
       "    .dataframe tbody tr th {\n",
       "        vertical-align: top;\n",
       "    }\n",
       "\n",
       "    .dataframe thead th {\n",
       "        text-align: right;\n",
       "    }\n",
       "</style>\n",
       "<table border=\"1\" class=\"dataframe\">\n",
       "  <thead>\n",
       "    <tr style=\"text-align: right;\">\n",
       "      <th></th>\n",
       "      <th>VIDEO_ID</th>\n",
       "      <th>VIDEO_NAME</th>\n",
       "      <th>SENTENCE_ID</th>\n",
       "      <th>SENTENCE_NAME</th>\n",
       "      <th>START</th>\n",
       "      <th>END</th>\n",
       "      <th>SENTENCE</th>\n",
       "    </tr>\n",
       "  </thead>\n",
       "  <tbody>\n",
       "    <tr>\n",
       "      <th>0</th>\n",
       "      <td>--7E2sU6zP4</td>\n",
       "      <td>--7E2sU6zP4-5-rgb_front</td>\n",
       "      <td>--7E2sU6zP4_10</td>\n",
       "      <td>--7E2sU6zP4_10-5-rgb_front</td>\n",
       "      <td>94.95</td>\n",
       "      <td>106.38</td>\n",
       "      <td>And I call them decorative elements because ba...</td>\n",
       "    </tr>\n",
       "    <tr>\n",
       "      <th>1</th>\n",
       "      <td>--7E2sU6zP4</td>\n",
       "      <td>--7E2sU6zP4-5-rgb_front</td>\n",
       "      <td>--7E2sU6zP4_11</td>\n",
       "      <td>--7E2sU6zP4_11-5-rgb_front</td>\n",
       "      <td>107.50</td>\n",
       "      <td>125.18</td>\n",
       "      <td>So they don't really have much of a symbolic m...</td>\n",
       "    </tr>\n",
       "    <tr>\n",
       "      <th>2</th>\n",
       "      <td>--7E2sU6zP4</td>\n",
       "      <td>--7E2sU6zP4-5-rgb_front</td>\n",
       "      <td>--7E2sU6zP4_12</td>\n",
       "      <td>--7E2sU6zP4_12-5-rgb_front</td>\n",
       "      <td>125.18</td>\n",
       "      <td>136.09</td>\n",
       "      <td>Now this is very, this is actually an insert o...</td>\n",
       "    </tr>\n",
       "    <tr>\n",
       "      <th>3</th>\n",
       "      <td>--7E2sU6zP4</td>\n",
       "      <td>--7E2sU6zP4-5-rgb_front</td>\n",
       "      <td>--7E2sU6zP4_13</td>\n",
       "      <td>--7E2sU6zP4_13-5-rgb_front</td>\n",
       "      <td>136.52</td>\n",
       "      <td>141.03</td>\n",
       "      <td>This is all the you know, take off on the idea...</td>\n",
       "    </tr>\n",
       "    <tr>\n",
       "      <th>4</th>\n",
       "      <td>--7E2sU6zP4</td>\n",
       "      <td>--7E2sU6zP4-5-rgb_front</td>\n",
       "      <td>--7E2sU6zP4_5</td>\n",
       "      <td>--7E2sU6zP4_5-5-rgb_front</td>\n",
       "      <td>42.68</td>\n",
       "      <td>49.33</td>\n",
       "      <td>It's almost has a feathery like posture to it.</td>\n",
       "    </tr>\n",
       "  </tbody>\n",
       "</table>\n",
       "</div>"
      ],
      "text/plain": [
       "      VIDEO_ID               VIDEO_NAME     SENTENCE_ID  \\\n",
       "0  --7E2sU6zP4  --7E2sU6zP4-5-rgb_front  --7E2sU6zP4_10   \n",
       "1  --7E2sU6zP4  --7E2sU6zP4-5-rgb_front  --7E2sU6zP4_11   \n",
       "2  --7E2sU6zP4  --7E2sU6zP4-5-rgb_front  --7E2sU6zP4_12   \n",
       "3  --7E2sU6zP4  --7E2sU6zP4-5-rgb_front  --7E2sU6zP4_13   \n",
       "4  --7E2sU6zP4  --7E2sU6zP4-5-rgb_front   --7E2sU6zP4_5   \n",
       "\n",
       "                SENTENCE_NAME   START     END  \\\n",
       "0  --7E2sU6zP4_10-5-rgb_front   94.95  106.38   \n",
       "1  --7E2sU6zP4_11-5-rgb_front  107.50  125.18   \n",
       "2  --7E2sU6zP4_12-5-rgb_front  125.18  136.09   \n",
       "3  --7E2sU6zP4_13-5-rgb_front  136.52  141.03   \n",
       "4   --7E2sU6zP4_5-5-rgb_front   42.68   49.33   \n",
       "\n",
       "                                            SENTENCE  \n",
       "0  And I call them decorative elements because ba...  \n",
       "1  So they don't really have much of a symbolic m...  \n",
       "2  Now this is very, this is actually an insert o...  \n",
       "3  This is all the you know, take off on the idea...  \n",
       "4     It's almost has a feathery like posture to it.  "
      ]
     },
     "execution_count": 11,
     "metadata": {},
     "output_type": "execute_result"
    }
   ],
   "source": [
    "train.head()"
   ]
  },
  {
   "cell_type": "code",
   "execution_count": 13,
   "id": "6dc48835-0832-4b33-afdd-5f00860576ac",
   "metadata": {},
   "outputs": [],
   "source": [
    "train.drop(['VIDEO_ID','VIDEO_NAME'],axis=1,inplace=True)"
   ]
  },
  {
   "cell_type": "code",
   "execution_count": 14,
   "id": "e9aeb95e-151b-42f2-a008-75e181b3d14b",
   "metadata": {},
   "outputs": [
    {
     "data": {
      "text/html": [
       "<div>\n",
       "<style scoped>\n",
       "    .dataframe tbody tr th:only-of-type {\n",
       "        vertical-align: middle;\n",
       "    }\n",
       "\n",
       "    .dataframe tbody tr th {\n",
       "        vertical-align: top;\n",
       "    }\n",
       "\n",
       "    .dataframe thead th {\n",
       "        text-align: right;\n",
       "    }\n",
       "</style>\n",
       "<table border=\"1\" class=\"dataframe\">\n",
       "  <thead>\n",
       "    <tr style=\"text-align: right;\">\n",
       "      <th></th>\n",
       "      <th>SENTENCE_ID</th>\n",
       "      <th>SENTENCE_NAME</th>\n",
       "      <th>START</th>\n",
       "      <th>END</th>\n",
       "      <th>SENTENCE</th>\n",
       "    </tr>\n",
       "  </thead>\n",
       "  <tbody>\n",
       "    <tr>\n",
       "      <th>0</th>\n",
       "      <td>--7E2sU6zP4_10</td>\n",
       "      <td>--7E2sU6zP4_10-5-rgb_front</td>\n",
       "      <td>94.95</td>\n",
       "      <td>106.38</td>\n",
       "      <td>And I call them decorative elements because ba...</td>\n",
       "    </tr>\n",
       "    <tr>\n",
       "      <th>1</th>\n",
       "      <td>--7E2sU6zP4_11</td>\n",
       "      <td>--7E2sU6zP4_11-5-rgb_front</td>\n",
       "      <td>107.50</td>\n",
       "      <td>125.18</td>\n",
       "      <td>So they don't really have much of a symbolic m...</td>\n",
       "    </tr>\n",
       "    <tr>\n",
       "      <th>2</th>\n",
       "      <td>--7E2sU6zP4_12</td>\n",
       "      <td>--7E2sU6zP4_12-5-rgb_front</td>\n",
       "      <td>125.18</td>\n",
       "      <td>136.09</td>\n",
       "      <td>Now this is very, this is actually an insert o...</td>\n",
       "    </tr>\n",
       "    <tr>\n",
       "      <th>3</th>\n",
       "      <td>--7E2sU6zP4_13</td>\n",
       "      <td>--7E2sU6zP4_13-5-rgb_front</td>\n",
       "      <td>136.52</td>\n",
       "      <td>141.03</td>\n",
       "      <td>This is all the you know, take off on the idea...</td>\n",
       "    </tr>\n",
       "    <tr>\n",
       "      <th>4</th>\n",
       "      <td>--7E2sU6zP4_5</td>\n",
       "      <td>--7E2sU6zP4_5-5-rgb_front</td>\n",
       "      <td>42.68</td>\n",
       "      <td>49.33</td>\n",
       "      <td>It's almost has a feathery like posture to it.</td>\n",
       "    </tr>\n",
       "  </tbody>\n",
       "</table>\n",
       "</div>"
      ],
      "text/plain": [
       "      SENTENCE_ID               SENTENCE_NAME   START     END  \\\n",
       "0  --7E2sU6zP4_10  --7E2sU6zP4_10-5-rgb_front   94.95  106.38   \n",
       "1  --7E2sU6zP4_11  --7E2sU6zP4_11-5-rgb_front  107.50  125.18   \n",
       "2  --7E2sU6zP4_12  --7E2sU6zP4_12-5-rgb_front  125.18  136.09   \n",
       "3  --7E2sU6zP4_13  --7E2sU6zP4_13-5-rgb_front  136.52  141.03   \n",
       "4   --7E2sU6zP4_5   --7E2sU6zP4_5-5-rgb_front   42.68   49.33   \n",
       "\n",
       "                                            SENTENCE  \n",
       "0  And I call them decorative elements because ba...  \n",
       "1  So they don't really have much of a symbolic m...  \n",
       "2  Now this is very, this is actually an insert o...  \n",
       "3  This is all the you know, take off on the idea...  \n",
       "4     It's almost has a feathery like posture to it.  "
      ]
     },
     "execution_count": 14,
     "metadata": {},
     "output_type": "execute_result"
    }
   ],
   "source": [
    "train.head()"
   ]
  }
 ],
 "metadata": {
  "kernelspec": {
   "display_name": "Python 3 (ipykernel)",
   "language": "python",
   "name": "python3"
  },
  "language_info": {
   "codemirror_mode": {
    "name": "ipython",
    "version": 3
   },
   "file_extension": ".py",
   "mimetype": "text/x-python",
   "name": "python",
   "nbconvert_exporter": "python",
   "pygments_lexer": "ipython3",
   "version": "3.12.4"
  }
 },
 "nbformat": 4,
 "nbformat_minor": 5
}
